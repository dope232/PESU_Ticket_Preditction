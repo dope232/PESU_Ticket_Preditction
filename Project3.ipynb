{
  "nbformat": 4,
  "nbformat_minor": 0,
  "metadata": {
    "colab": {
      "provenance": []
    },
    "kernelspec": {
      "name": "python3",
      "display_name": "Python 3"
    },
    "language_info": {
      "name": "python"
    }
  },
  "cells": [
    {
      "cell_type": "code",
      "execution_count": 3,
      "metadata": {
        "id": "BoDRxEkZe9L5"
      },
      "outputs": [],
      "source": [
        "import pandas as pd\n",
        "import numpy as np\n",
        "import matplotlib.pyplot as plt\n",
        "import seaborn as sns\n",
        "from sklearn.model_selection import train_test_split\n",
        "from sklearn.linear_model import LinearRegression\n",
        "from sklearn.metrics import mean_squared_error, mean_absolute_error, r2_score\n",
        "from sklearn.preprocessing import Normalizer\n"
      ]
    },
    {
      "cell_type": "code",
      "source": [
        "df = pd.read_csv('Ticket10.csv')\n",
        "df.drop(['Unnamed: 0'], axis = 1, inplace = True)\n",
        "df\n",
        "\n",
        "X = df.drop(['Price'], axis=1)\n",
        "y = df['Price']\n",
        "\n",
        "print(X,y)\n",
        "\n",
        "X_train, X_test, y_train, y_test = train_test_split(X, y, test_size=0.34, random_state=496)\n",
        "model = LinearRegression()\n",
        "model.fit(X_train, y_train)\n",
        "\n",
        "y_predict = model.predict(X_test)\n"
      ],
      "metadata": {
        "colab": {
          "base_uri": "https://localhost:8080/"
        },
        "id": "hNMpgQDIfAvU",
        "outputId": "1d0297c6-a277-496b-caae-56c25f659dbf"
      },
      "execution_count": 21,
      "outputs": [
        {
          "output_type": "stream",
          "name": "stdout",
          "text": [
            "     Airline  Source  Destination  Day  Total_Stops  Additional_Info  Route  \\\n",
            "0          3       0            5    3            3                2      6   \n",
            "1          1       3            0    2            1                2     23   \n",
            "2          4       2            1    0            1                2     45   \n",
            "3          3       3            0    4            0                2     27   \n",
            "4          3       0            5    4            0                2      9   \n",
            "..       ...     ...          ...  ...          ...              ...    ...   \n",
            "494        1       2            1    4            0                2     33   \n",
            "495        4       3            0    6            0                0     15   \n",
            "496        4       2            1    4            0                2     34   \n",
            "497        4       2            1    0            0                0     34   \n",
            "498        7       3            0    6            0                2     19   \n",
            "\n",
            "     Dep_Time  Duration  Month  \n",
            "0         149       170      3  \n",
            "1          17       445      1  \n",
            "2          47      1140      9  \n",
            "3         114       325     12  \n",
            "4         103       285      1  \n",
            "..        ...       ...    ...  \n",
            "494       111       315      3  \n",
            "495        79      1155      6  \n",
            "496       138       450      6  \n",
            "497        53       540      1  \n",
            "498       133      1440      5  \n",
            "\n",
            "[499 rows x 10 columns] 0       3897.0\n",
            "1       7662.0\n",
            "2      13882.0\n",
            "3       6218.0\n",
            "4      13302.0\n",
            "        ...   \n",
            "494     5704.0\n",
            "495     9663.0\n",
            "496    14714.0\n",
            "497     5406.0\n",
            "498     8610.0\n",
            "Name: Price, Length: 499, dtype: float64\n"
          ]
        }
      ]
    },
    {
      "cell_type": "code",
      "source": [
        "\n",
        "\n",
        "\n",
        "\n",
        "print(mean_squared_error(y_test,y_predict))\n",
        "print(mean_absolute_error(y_test,y_predict))\n",
        "print(r2_score(y_test,y_predict))"
      ],
      "metadata": {
        "colab": {
          "base_uri": "https://localhost:8080/"
        },
        "id": "f5-y7I9FfFvQ",
        "outputId": "73b533ce-ebda-4a25-9b81-71953a9714c1"
      },
      "execution_count": 22,
      "outputs": [
        {
          "output_type": "stream",
          "name": "stdout",
          "text": [
            "8840757.188508583\n",
            "2372.635193896295\n",
            "0.5331057916833826\n"
          ]
        }
      ]
    },
    {
      "cell_type": "code",
      "source": [],
      "metadata": {
        "id": "R374WMHWfRQs"
      },
      "execution_count": null,
      "outputs": []
    }
  ]
}